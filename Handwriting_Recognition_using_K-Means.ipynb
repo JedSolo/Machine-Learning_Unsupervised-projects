{
 "cells": [
  {
   "cell_type": "code",
   "execution_count": 2,
   "id": "71bf3333",
   "metadata": {},
   "outputs": [
    {
     "name": "stdout",
     "output_type": "stream",
     "text": [
      "[0 1 2 ... 8 9 8]\n"
     ]
    },
    {
     "data": {
      "text/plain": [
       "<Figure size 432x288 with 0 Axes>"
      ]
     },
     "metadata": {},
     "output_type": "display_data"
    },
    {
     "data": {
      "image/png": "[encoded data removed]",
      "text/plain": [
       "<Figure size 288x288 with 1 Axes>"
      ]
     },
     "metadata": {
      "needs_background": "light"
     },
     "output_type": "display_data"
    },
    {
     "name": "stdout",
     "output_type": "stream",
     "text": [
      "2\n"
     ]
    },
    {
     "data": {
      "image/png": "[encoded data removed]",
      "text/plain": [
       "<Figure size 576x216 with 10 Axes>"
      ]
     },
     "metadata": {
      "needs_background": "light"
     },
     "output_type": "display_data"
    },
    {
     "name": "stdout",
     "output_type": "stream",
     "text": [
      "[6 6 5 1]\n",
      "4489"
     ]
    }
   ],
   "source": [
    "#import codecademylib3_seaborn\n",
    "import numpy as np\n",
    "from matplotlib import pyplot as plt\n",
    "from sklearn import datasets\n",
    "from sklearn.cluster import KMeans\n",
    "\n",
    "# Loading dataset:\n",
    "digits = datasets.load_digits()\n",
    "\n",
    "# Checking the data description:\n",
    "# print(digits.DESCR)\n",
    "\n",
    "# Checking the actual data:\n",
    "# print(digits.data)\n",
    "\n",
    "# Checking the target values:\n",
    "print(digits.target)\n",
    "\n",
    "# Visualizing the data images at index 100:\n",
    "plt.gray() \n",
    " \n",
    "plt.matshow(digits.images[50])\n",
    " \n",
    "plt.show()\n",
    "\n",
    "print(digits.target[50])\n",
    "\n",
    "# K-Means Clustering:\n",
    "model = KMeans(n_clusters=10, random_state=62)\n",
    "model.fit(digits.data)\n",
    "\n",
    "# Visualizing after K-means:\n",
    "fig = plt.figure(figsize=(8, 3))\n",
    "\n",
    "fig.suptitle('Cluster Center Images', fontsize=14, fontweight='bold')\n",
    "\n",
    "for i in range(10):\n",
    "  # Initialize subplots in a grid of 2X5, at i+1th position\n",
    "  ax = fig.add_subplot(2, 5, 1 + i)\n",
    "  # Display images\n",
    "  ax.imshow(model.cluster_centers_[i].reshape((8, 8)), cmap=plt.cm.binary)\n",
    "\n",
    "plt.show()\n",
    "\n",
    "# Testing Your Model:\n",
    "new_samples = np.array([\n",
    "[0.00,0.00,1.91,3.81,3.82,2.44,0.00,0.00,0.23,5.49,6.94,4.27,3.89,6.79,3.66,0.00,0.30,3.74,0.38,0.00,0.00,1.30,6.10,0.00,0.00,0.00,0.00,0.00,0.00,0.92,6.10,0.00,0.00,0.00,0.00,0.00,0.00,3.13,5.03,0.00,0.00,0.00,0.00,0.00,1.91,6.94,1.52,0.00,0.23,4.12,5.34,5.87,7.63,5.42,2.98,0.15,0.30,4.50,4.58,3.81,3.36,4.58,4.50,0.31],\n",
    "[0.00,0.30,1.37,1.52,1.52,1.52,0.99,0.00,6.48,7.55,6.48,6.10,6.10,6.40,5.80,0.00,6.33,0.00,0.00,0.00,0.00,1.52,5.34,0.00,5.34,0.00,0.00,0.00,0.00,1.52,5.34,0.00,5.72,0.00,0.00,0.00,0.00,2.21,5.18,0.00,6.94,1.91,0.00,0.00,0.00,5.11,3.51,0.00,2.06,7.09,2.98,1.53,3.21,6.86,0.46,0.00,0.00,1.75,5.72,6.11,5.87,1.60,0.00,0.00],\n",
    "[0.00,0.00,0.00,0.00,0.38,1.07,1.45,0.00,3.58,7.62,7.62,7.63,7.47,6.71,6.02,0.46,3.81,3.35,0.00,0.00,0.00,0.00,0.00,0.00,3.05,4.35,0.00,1.22,1.53,1.53,1.15,0.00,2.29,6.48,6.71,7.02,6.10,6.10,7.40,0.00,1.14,4.35,2.06,0.15,0.00,0.00,7.01,0.00,0.00,0.53,1.91,2.29,2.36,4.04,6.63,0.00,0.00,4.50,6.33,5.34,5.34,4.73,1.68,0.00],\n",
    "[0.00,0.00,0.00,0.76,0.76,0.08,0.00,0.00,0.00,0.30,5.26,7.17,7.02,7.09,6.25,0.69,0.00,5.03,5.41,0.38,0.00,0.69,5.57,2.29,0.00,7.17,0.46,0.00,0.00,0.00,4.73,2.29,0.00,6.86,0.00,0.00,0.00,0.00,5.34,1.75,0.00,6.86,0.00,0.00,0.00,0.08,6.33,1.45,0.00,7.24,3.20,1.38,0.84,4.20,6.25,0.15,0.00,1.75,5.64,6.56,6.87,5.65,1.15,0.00]\n",
    "])\n",
    "\n",
    "# Predicting the new samples:\n",
    "new_labels = model.predict(new_samples)\n",
    "print(new_labels)\n",
    "\n",
    "for i in range(len(new_labels)):\n",
    "  if new_labels[i] == 0:\n",
    "    print(0, end='')\n",
    "  elif new_labels[i] == 1:\n",
    "    print(9, end='')\n",
    "  elif new_labels[i] == 2:\n",
    "    print(2, end='')\n",
    "  elif new_labels[i] == 3:\n",
    "    print(1, end='')\n",
    "  elif new_labels[i] == 4:\n",
    "    print(6, end='')\n",
    "  elif new_labels[i] == 5:\n",
    "    print(8, end='')\n",
    "  elif new_labels[i] == 6:\n",
    "    print(4, end='')\n",
    "  elif new_labels[i] == 7:\n",
    "    print(5, end='')\n",
    "  elif new_labels[i] == 8:\n",
    "    print(7, end='')\n",
    "  elif new_labels[i] == 9:\n",
    "    print(3, end='')"
   ]
  },
  {
   "cell_type": "code",
   "execution_count": null,
   "id": "5a128222",
   "metadata": {},
   "outputs": [],
   "source": []
  }
 ],
 "metadata": {
  "kernelspec": {
   "display_name": "Python 3",
   "language": "python",
   "name": "python3"
  },
  "language_info": {
   "codemirror_mode": {
    "name": "ipython",
    "version": 3
   },
   "file_extension": ".py",
   "mimetype": "text/x-python",
   "name": "python",
   "nbconvert_exporter": "python",
   "pygments_lexer": "ipython3",
   "version": "3.8.8"
  }
 },
 "nbformat": 4,
 "nbformat_minor": 5
}
